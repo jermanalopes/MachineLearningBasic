{
  "nbformat": 4,
  "nbformat_minor": 0,
  "metadata": {
    "colab": {
      "provenance": [],
      "authorship_tag": "ABX9TyOaFzo/VllPBwQGGLqbVoYn",
      "include_colab_link": true
    },
    "kernelspec": {
      "name": "python3",
      "display_name": "Python 3"
    },
    "language_info": {
      "name": "python"
    }
  },
  "cells": [
    {
      "cell_type": "markdown",
      "metadata": {
        "id": "view-in-github",
        "colab_type": "text"
      },
      "source": [
        "<a href=\"https://colab.research.google.com/github/jermanalopes/MachineLearningBasic/blob/main/Multilabel_Classifier.ipynb\" target=\"_parent\"><img src=\"https://colab.research.google.com/assets/colab-badge.svg\" alt=\"Open In Colab\"/></a>"
      ]
    },
    {
      "cell_type": "code",
      "execution_count": 1,
      "metadata": {
        "colab": {
          "base_uri": "https://localhost:8080/"
        },
        "id": "gR-GJRxorbHo",
        "outputId": "0c82074c-f21f-4668-b220-355ef6cfc91a"
      },
      "outputs": [
        {
          "output_type": "stream",
          "name": "stdout",
          "text": [
            "Collecting scikit.multilearn\n",
            "  Downloading scikit_multilearn-0.2.0-py3-none-any.whl (89 kB)\n",
            "\u001b[2K     \u001b[90m━━━━━━━━━━━━━━━━━━━━━━━━━━━━━━━━━━━━━━━━\u001b[0m \u001b[32m89.4/89.4 kB\u001b[0m \u001b[31m1.6 MB/s\u001b[0m eta \u001b[36m0:00:00\u001b[0m\n",
            "\u001b[?25hInstalling collected packages: scikit.multilearn\n",
            "Successfully installed scikit.multilearn-0.2.0\n"
          ]
        }
      ],
      "source": [
        "!pip install scikit.multilearn"
      ]
    },
    {
      "cell_type": "code",
      "source": [
        "from skmultilearn.adapt import MLARAM\n",
        "from skmultilearn.problem_transform import BinaryRelevance, ClassifierChain, LabelPowerset\n",
        "from sklearn.svm import SVC\n",
        "from sklearn.model_selection import train_test_split\n",
        "from sklearn.metrics import hamming_loss\n",
        "import pandas as pd\n"
      ],
      "metadata": {
        "id": "f1DbxzvAr50k"
      },
      "execution_count": 3,
      "outputs": []
    },
    {
      "cell_type": "code",
      "source": [
        "#Reading and Organize Dataset\n",
        "data = pd.read_csv('Musica.csv')\n",
        "data.shape\n",
        "data.head()\n",
        "\n",
        "inputs = data.iloc[:, 7:78].values\n",
        "outputs = data.iloc[:, 0:6].values\n",
        "outputs\n",
        "\n",
        "x_train, x_test, y_train, y_test = train_test_split(inputs, outputs, test_size=0.3, random_state=0)"
      ],
      "metadata": {
        "id": "FKLV4m3msooA"
      },
      "execution_count": 15,
      "outputs": []
    },
    {
      "cell_type": "code",
      "source": [
        "#Multilabel Model\n",
        "ANN = MLARAM()\n",
        "ANN.fit(x_train, y_train)"
      ],
      "metadata": {
        "colab": {
          "base_uri": "https://localhost:8080/",
          "height": 252
        },
        "id": "bgPtBmtYtqMP",
        "outputId": "3ed1969e-c4ea-4444-8134-c78f7fdedece"
      },
      "execution_count": 16,
      "outputs": [
        {
          "output_type": "execute_result",
          "data": {
            "text/plain": [
              "MLARAM(neurons=[<skmultilearn.adapt.mlaram.Neuron object at 0x7a15bc5abd30>,\n",
              "                <skmultilearn.adapt.mlaram.Neuron object at 0x7a157c87fca0>,\n",
              "                <skmultilearn.adapt.mlaram.Neuron object at 0x7a157c87fa90>,\n",
              "                <skmultilearn.adapt.mlaram.Neuron object at 0x7a157c87c790>,\n",
              "                <skmultilearn.adapt.mlaram.Neuron object at 0x7a157c87c400>,\n",
              "                <skmultilearn.adapt.mlaram.Neuron object at 0x7a157c...\n",
              "                <skmultilearn.adapt.mlaram.Neuron object at 0x7a157c87c670>,\n",
              "                <skmultilearn.adapt.mlaram.Neuron object at 0x7a157c87df60>,\n",
              "                <skmultilearn.adapt.mlaram.Neuron object at 0x7a157c87d4e0>,\n",
              "                <skmultilearn.adapt.mlaram.Neuron object at 0x7a157c87c2b0>,\n",
              "                <skmultilearn.adapt.mlaram.Neuron object at 0x7a157c87d2a0>,\n",
              "                <skmultilearn.adapt.mlaram.Neuron object at 0x7a157c87e890>,\n",
              "                <skmultilearn.adapt.mlaram.Neuron object at 0x7a157c87da80>, ...])"
            ],
            "text/html": [
              "<style>#sk-container-id-1 {color: black;background-color: white;}#sk-container-id-1 pre{padding: 0;}#sk-container-id-1 div.sk-toggleable {background-color: white;}#sk-container-id-1 label.sk-toggleable__label {cursor: pointer;display: block;width: 100%;margin-bottom: 0;padding: 0.3em;box-sizing: border-box;text-align: center;}#sk-container-id-1 label.sk-toggleable__label-arrow:before {content: \"▸\";float: left;margin-right: 0.25em;color: #696969;}#sk-container-id-1 label.sk-toggleable__label-arrow:hover:before {color: black;}#sk-container-id-1 div.sk-estimator:hover label.sk-toggleable__label-arrow:before {color: black;}#sk-container-id-1 div.sk-toggleable__content {max-height: 0;max-width: 0;overflow: hidden;text-align: left;background-color: #f0f8ff;}#sk-container-id-1 div.sk-toggleable__content pre {margin: 0.2em;color: black;border-radius: 0.25em;background-color: #f0f8ff;}#sk-container-id-1 input.sk-toggleable__control:checked~div.sk-toggleable__content {max-height: 200px;max-width: 100%;overflow: auto;}#sk-container-id-1 input.sk-toggleable__control:checked~label.sk-toggleable__label-arrow:before {content: \"▾\";}#sk-container-id-1 div.sk-estimator input.sk-toggleable__control:checked~label.sk-toggleable__label {background-color: #d4ebff;}#sk-container-id-1 div.sk-label input.sk-toggleable__control:checked~label.sk-toggleable__label {background-color: #d4ebff;}#sk-container-id-1 input.sk-hidden--visually {border: 0;clip: rect(1px 1px 1px 1px);clip: rect(1px, 1px, 1px, 1px);height: 1px;margin: -1px;overflow: hidden;padding: 0;position: absolute;width: 1px;}#sk-container-id-1 div.sk-estimator {font-family: monospace;background-color: #f0f8ff;border: 1px dotted black;border-radius: 0.25em;box-sizing: border-box;margin-bottom: 0.5em;}#sk-container-id-1 div.sk-estimator:hover {background-color: #d4ebff;}#sk-container-id-1 div.sk-parallel-item::after {content: \"\";width: 100%;border-bottom: 1px solid gray;flex-grow: 1;}#sk-container-id-1 div.sk-label:hover label.sk-toggleable__label {background-color: #d4ebff;}#sk-container-id-1 div.sk-serial::before {content: \"\";position: absolute;border-left: 1px solid gray;box-sizing: border-box;top: 0;bottom: 0;left: 50%;z-index: 0;}#sk-container-id-1 div.sk-serial {display: flex;flex-direction: column;align-items: center;background-color: white;padding-right: 0.2em;padding-left: 0.2em;position: relative;}#sk-container-id-1 div.sk-item {position: relative;z-index: 1;}#sk-container-id-1 div.sk-parallel {display: flex;align-items: stretch;justify-content: center;background-color: white;position: relative;}#sk-container-id-1 div.sk-item::before, #sk-container-id-1 div.sk-parallel-item::before {content: \"\";position: absolute;border-left: 1px solid gray;box-sizing: border-box;top: 0;bottom: 0;left: 50%;z-index: -1;}#sk-container-id-1 div.sk-parallel-item {display: flex;flex-direction: column;z-index: 1;position: relative;background-color: white;}#sk-container-id-1 div.sk-parallel-item:first-child::after {align-self: flex-end;width: 50%;}#sk-container-id-1 div.sk-parallel-item:last-child::after {align-self: flex-start;width: 50%;}#sk-container-id-1 div.sk-parallel-item:only-child::after {width: 0;}#sk-container-id-1 div.sk-dashed-wrapped {border: 1px dashed gray;margin: 0 0.4em 0.5em 0.4em;box-sizing: border-box;padding-bottom: 0.4em;background-color: white;}#sk-container-id-1 div.sk-label label {font-family: monospace;font-weight: bold;display: inline-block;line-height: 1.2em;}#sk-container-id-1 div.sk-label-container {text-align: center;}#sk-container-id-1 div.sk-container {/* jupyter's `normalize.less` sets `[hidden] { display: none; }` but bootstrap.min.css set `[hidden] { display: none !important; }` so we also need the `!important` here to be able to override the default hidden behavior on the sphinx rendered scikit-learn.org. See: https://github.com/scikit-learn/scikit-learn/issues/21755 */display: inline-block !important;position: relative;}#sk-container-id-1 div.sk-text-repr-fallback {display: none;}</style><div id=\"sk-container-id-1\" class=\"sk-top-container\"><div class=\"sk-text-repr-fallback\"><pre>MLARAM(neurons=[&lt;skmultilearn.adapt.mlaram.Neuron object at 0x7a15bc5abd30&gt;,\n",
              "                &lt;skmultilearn.adapt.mlaram.Neuron object at 0x7a157c87fca0&gt;,\n",
              "                &lt;skmultilearn.adapt.mlaram.Neuron object at 0x7a157c87fa90&gt;,\n",
              "                &lt;skmultilearn.adapt.mlaram.Neuron object at 0x7a157c87c790&gt;,\n",
              "                &lt;skmultilearn.adapt.mlaram.Neuron object at 0x7a157c87c400&gt;,\n",
              "                &lt;skmultilearn.adapt.mlaram.Neuron object at 0x7a157c...\n",
              "                &lt;skmultilearn.adapt.mlaram.Neuron object at 0x7a157c87c670&gt;,\n",
              "                &lt;skmultilearn.adapt.mlaram.Neuron object at 0x7a157c87df60&gt;,\n",
              "                &lt;skmultilearn.adapt.mlaram.Neuron object at 0x7a157c87d4e0&gt;,\n",
              "                &lt;skmultilearn.adapt.mlaram.Neuron object at 0x7a157c87c2b0&gt;,\n",
              "                &lt;skmultilearn.adapt.mlaram.Neuron object at 0x7a157c87d2a0&gt;,\n",
              "                &lt;skmultilearn.adapt.mlaram.Neuron object at 0x7a157c87e890&gt;,\n",
              "                &lt;skmultilearn.adapt.mlaram.Neuron object at 0x7a157c87da80&gt;, ...])</pre><b>In a Jupyter environment, please rerun this cell to show the HTML representation or trust the notebook. <br />On GitHub, the HTML representation is unable to render, please try loading this page with nbviewer.org.</b></div><div class=\"sk-container\" hidden><div class=\"sk-item\"><div class=\"sk-estimator sk-toggleable\"><input class=\"sk-toggleable__control sk-hidden--visually\" id=\"sk-estimator-id-1\" type=\"checkbox\" checked><label for=\"sk-estimator-id-1\" class=\"sk-toggleable__label sk-toggleable__label-arrow\">MLARAM</label><div class=\"sk-toggleable__content\"><pre>MLARAM(neurons=[&lt;skmultilearn.adapt.mlaram.Neuron object at 0x7a15bc5abd30&gt;,\n",
              "                &lt;skmultilearn.adapt.mlaram.Neuron object at 0x7a157c87fca0&gt;,\n",
              "                &lt;skmultilearn.adapt.mlaram.Neuron object at 0x7a157c87fa90&gt;,\n",
              "                &lt;skmultilearn.adapt.mlaram.Neuron object at 0x7a157c87c790&gt;,\n",
              "                &lt;skmultilearn.adapt.mlaram.Neuron object at 0x7a157c87c400&gt;,\n",
              "                &lt;skmultilearn.adapt.mlaram.Neuron object at 0x7a157c...\n",
              "                &lt;skmultilearn.adapt.mlaram.Neuron object at 0x7a157c87c670&gt;,\n",
              "                &lt;skmultilearn.adapt.mlaram.Neuron object at 0x7a157c87df60&gt;,\n",
              "                &lt;skmultilearn.adapt.mlaram.Neuron object at 0x7a157c87d4e0&gt;,\n",
              "                &lt;skmultilearn.adapt.mlaram.Neuron object at 0x7a157c87c2b0&gt;,\n",
              "                &lt;skmultilearn.adapt.mlaram.Neuron object at 0x7a157c87d2a0&gt;,\n",
              "                &lt;skmultilearn.adapt.mlaram.Neuron object at 0x7a157c87e890&gt;,\n",
              "                &lt;skmultilearn.adapt.mlaram.Neuron object at 0x7a157c87da80&gt;, ...])</pre></div></div></div></div></div>"
            ]
          },
          "metadata": {},
          "execution_count": 16
        }
      ]
    },
    {
      "cell_type": "code",
      "source": [
        "#Multilabel Model Results\n",
        "predict = ANN.predict(x_test)\n",
        "print(hamming_loss(y_test, predict))"
      ],
      "metadata": {
        "colab": {
          "base_uri": "https://localhost:8080/"
        },
        "id": "paLZOV5xt46z",
        "outputId": "6b642b96-0729-4a34-bd29-cefa050aa515"
      },
      "execution_count": 19,
      "outputs": [
        {
          "output_type": "stream",
          "name": "stdout",
          "text": [
            "0.24906367041198502\n"
          ]
        }
      ]
    },
    {
      "cell_type": "code",
      "source": [
        "#Testing BinaryRelevance\n",
        "binary = BinaryRelevance(classifier=SVC())\n",
        "binary.fit(x_train, y_train)\n",
        "binary_predict = binary.predict(x_test)\n",
        "print(hamming_loss(y_test, binary_predict))"
      ],
      "metadata": {
        "colab": {
          "base_uri": "https://localhost:8080/"
        },
        "id": "ONfhlIU6uS3Z",
        "outputId": "360c61fd-4890-4076-c26c-597124f95cce"
      },
      "execution_count": 21,
      "outputs": [
        {
          "output_type": "stream",
          "name": "stdout",
          "text": [
            "0.199438202247191\n"
          ]
        }
      ]
    },
    {
      "cell_type": "code",
      "source": [
        "#Testing ClassifierChain\n",
        "chain = ClassifierChain(classifier=SVC())\n",
        "chain.fit(x_train, y_train)\n",
        "chain_predict = chain.predict(x_test)\n",
        "print(hamming_loss(y_test, chain_predict))"
      ],
      "metadata": {
        "colab": {
          "base_uri": "https://localhost:8080/"
        },
        "id": "9KwTtrwzukjA",
        "outputId": "b98b4700-a873-4bc3-8c60-579650e36e30"
      },
      "execution_count": 22,
      "outputs": [
        {
          "output_type": "stream",
          "name": "stdout",
          "text": [
            "0.2340823970037453\n"
          ]
        }
      ]
    },
    {
      "cell_type": "code",
      "source": [
        "#Testing LabelPowerset\n",
        "powerset = LabelPowerset(classifier=SVC())\n",
        "powerset.fit(x_train, y_train)\n",
        "powerset_predict = powerset.predict(x_test)\n",
        "print(hamming_loss(y_test, powerset_predict))"
      ],
      "metadata": {
        "colab": {
          "base_uri": "https://localhost:8080/"
        },
        "id": "YQV3e9MAu5Wl",
        "outputId": "470ea3e1-3c74-468c-a8a0-1a58fb7c27b3"
      },
      "execution_count": 25,
      "outputs": [
        {
          "output_type": "stream",
          "name": "stdout",
          "text": [
            "0.2209737827715356\n"
          ]
        }
      ]
    }
  ]
}