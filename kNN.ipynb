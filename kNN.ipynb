{
  "nbformat": 4,
  "nbformat_minor": 0,
  "metadata": {
    "colab": {
      "provenance": [],
      "authorship_tag": "ABX9TyNTAMv3ysyBporNoSMRr/7B",
      "include_colab_link": true
    },
    "kernelspec": {
      "name": "python3",
      "display_name": "Python 3"
    },
    "language_info": {
      "name": "python"
    }
  },
  "cells": [
    {
      "cell_type": "markdown",
      "metadata": {
        "id": "view-in-github",
        "colab_type": "text"
      },
      "source": [
        "<a href=\"https://colab.research.google.com/github/jermanalopes/MachineLearningBasic/blob/main/kNN.ipynb\" target=\"_parent\"><img src=\"https://colab.research.google.com/assets/colab-badge.svg\" alt=\"Open In Colab\"/></a>"
      ]
    },
    {
      "cell_type": "code",
      "execution_count": 66,
      "metadata": {
        "id": "Dm1DWOz3IwJq"
      },
      "outputs": [],
      "source": [
        "import numpy as np\n",
        "import pandas as pd\n",
        "from sklearn.model_selection import train_test_split\n",
        "from sklearn.neighbors import KNeighborsClassifier\n",
        "from sklearn.metrics import accuracy_score, precision_score, recall_score, f1_score, confusion_matrix\n"
      ]
    },
    {
      "cell_type": "code",
      "source": [
        "# Database information and organize\n",
        "base = pd.read_csv('mt_cars.csv')\n",
        "x = base[['mpg', 'hp']].values\n",
        "y = base['cyl'].values"
      ],
      "metadata": {
        "id": "scp6hm_uJtcD"
      },
      "execution_count": 67,
      "outputs": []
    },
    {
      "cell_type": "code",
      "source": [
        "# Training and Test data\n",
        "x_training, x_test, y_training, y_test = train_test_split(x,y,test_size=0.3, random_state=1)\n"
      ],
      "metadata": {
        "id": "NzrSzKrFK60m"
      },
      "execution_count": 68,
      "outputs": []
    },
    {
      "cell_type": "code",
      "source": [
        "# KNN algorithm\n",
        "knn = KNeighborsClassifier(n_neighbors=3)\n",
        "model = knn.fit(x_training,y_training)\n",
        "predict = model.predict(x_test)\n",
        "print(predict)\n"
      ],
      "metadata": {
        "id": "0gCx91YkKh5O",
        "colab": {
          "base_uri": "https://localhost:8080/"
        },
        "outputId": "2f3fcbf3-c391-4627-865a-1c954bdde6cd"
      },
      "execution_count": 69,
      "outputs": [
        {
          "output_type": "stream",
          "name": "stdout",
          "text": [
            "[6 6 8 4 8 4 8 8 4 8]\n"
          ]
        }
      ]
    },
    {
      "cell_type": "code",
      "source": [
        "# Metrics\n",
        "acc = accuracy_score(y_test, predict)\n",
        "precision = precision_score(y_test, predict, average='weighted')\n",
        "recall = recall_score(y_test, predict, average='weighted')\n",
        "f1 = f1_score(y_test, predict, average='weighted')\n",
        "cmatrix = confusion_matrix(y_test, predict)\n",
        "print(f'Acc: {acc}, Precision:{precision}, Recall: {recall}, f1:{f1}')\n",
        "print('Confusion Matrix\\n', cmatrix)\n",
        "\n"
      ],
      "metadata": {
        "colab": {
          "base_uri": "https://localhost:8080/"
        },
        "id": "rXTTobd6MsL8",
        "outputId": "fc55c1a0-aae1-41c3-ce53-7cd3c0b228d0"
      },
      "execution_count": 70,
      "outputs": [
        {
          "output_type": "stream",
          "name": "stdout",
          "text": [
            "Acc: 0.9, Precision:0.95, Recall: 0.9, f1:0.9095238095238095\n",
            "Confusion Matrix\n",
            " [[3 1 0]\n",
            " [0 1 0]\n",
            " [0 0 5]]\n"
          ]
        }
      ]
    },
    {
      "cell_type": "code",
      "source": [
        "# Testing kNN algorithm with new data\n",
        "# new_data = 'mpg', 'hp'\n",
        "new_data = np.array([[19.3, 105]])\n",
        "new_predict = model.predict(new_data)\n",
        "print(f'The new predict is: {new_predict}')\n"
      ],
      "metadata": {
        "colab": {
          "base_uri": "https://localhost:8080/"
        },
        "id": "Vp6Hh5fIwetM",
        "outputId": "9fd60d48-4a1b-40e8-bb8c-10a5a1093ceb"
      },
      "execution_count": 71,
      "outputs": [
        {
          "output_type": "stream",
          "name": "stdout",
          "text": [
            "The new predict is: [6]\n",
            "[[1.2        4.5177428  5.28109837]]\n",
            "[[21 15 11]]\n"
          ]
        },
        {
          "output_type": "execute_result",
          "data": {
            "text/plain": [
              "5     6\n",
              "31    4\n",
              "1     6\n",
              "Name: cyl, dtype: int64"
            ]
          },
          "metadata": {},
          "execution_count": 71
        }
      ]
    },
    {
      "cell_type": "code",
      "source": [],
      "metadata": {
        "id": "SycdgBmlxkx6"
      },
      "execution_count": 71,
      "outputs": []
    }
  ]
}