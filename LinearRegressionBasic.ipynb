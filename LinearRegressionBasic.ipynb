{
  "nbformat": 4,
  "nbformat_minor": 0,
  "metadata": {
    "colab": {
      "provenance": [],
      "authorship_tag": "ABX9TyML5kuCuULqbxlvih0BcB55",
      "include_colab_link": true
    },
    "kernelspec": {
      "name": "python3",
      "display_name": "Python 3"
    },
    "language_info": {
      "name": "python"
    }
  },
  "cells": [
    {
      "cell_type": "markdown",
      "metadata": {
        "id": "view-in-github",
        "colab_type": "text"
      },
      "source": [
        "<a href=\"https://colab.research.google.com/github/jermanalopes/MachineLearningBasic/blob/main/LinearRegressionBasic.ipynb\" target=\"_parent\"><img src=\"https://colab.research.google.com/assets/colab-badge.svg\" alt=\"Open In Colab\"/></a>"
      ]
    },
    {
      "cell_type": "code",
      "source": [
        "from numpy import *"
      ],
      "metadata": {
        "id": "9wDhJVRpEUS8"
      },
      "execution_count": 1,
      "outputs": []
    },
    {
      "cell_type": "code",
      "source": [
        "class LinearRegression:\n",
        "    def __init__(self, x, y):\n",
        "      self.x = x\n",
        "      self.y = y\n",
        "      self.__correlation_coefficient = self.__correlation()\n",
        "      self.__s_inclination = self.__inclination()\n",
        "      self.__s_intercept = self.__intercept()\n",
        "\n",
        "    def __correlation(self):\n",
        "      covariance = cov(self.x, self.y, bias = True)[0][1]\n",
        "      variance_x = var(self.x)\n",
        "      variance_y = var(self.y)\n",
        "      return covariance/sqrt(variance_x * variance_y)\n",
        "\n",
        "    def __inclination(self):\n",
        "      std_x = std(self.x)\n",
        "      std_y = std(self.y)\n",
        "      return self.__correlation_coefficient * (std_y/std_x)\n",
        "\n",
        "    def __intercept(self):\n",
        "      mean_x = mean(self.x)\n",
        "      mean_y = mean(self.y)\n",
        "      return mean_y - mean_x * self.__s_inclination\n",
        "\n",
        "    def prevision(self, valor):\n",
        "      return self.__s_intercept + (self.__s_inclination * valor)\n"
      ],
      "metadata": {
        "id": "EnihGgYJIpj8"
      },
      "execution_count": 2,
      "outputs": []
    },
    {
      "cell_type": "code",
      "source": [
        "x = array([1, 2, 3, 4, 5])\n",
        "y = array([2, 4, 6, 8, 10])\n",
        "\n",
        "LinearReg = LinearRegression(x, y)\n",
        "prevision = LinearReg.prevision(6)\n",
        "print(prevision)"
      ],
      "metadata": {
        "colab": {
          "base_uri": "https://localhost:8080/"
        },
        "id": "yqQn2-YAIunI",
        "outputId": "94c23772-dea5-4f8c-baf3-763cb672f242"
      },
      "execution_count": 3,
      "outputs": [
        {
          "output_type": "stream",
          "name": "stdout",
          "text": [
            "12.0\n"
          ]
        }
      ]
    },
    {
      "cell_type": "markdown",
      "source": [],
      "metadata": {
        "id": "8S4UnMoAfgmu"
      }
    }
  ]
}