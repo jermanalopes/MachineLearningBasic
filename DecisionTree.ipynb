{
  "nbformat": 4,
  "nbformat_minor": 0,
  "metadata": {
    "colab": {
      "provenance": [],
      "authorship_tag": "ABX9TyNMvNuk9qTEGresotChrLX7",
      "include_colab_link": true
    },
    "kernelspec": {
      "name": "python3",
      "display_name": "Python 3"
    },
    "language_info": {
      "name": "python"
    }
  },
  "cells": [
    {
      "cell_type": "markdown",
      "metadata": {
        "id": "view-in-github",
        "colab_type": "text"
      },
      "source": [
        "<a href=\"https://colab.research.google.com/github/jermanalopes/MachineLearningBasic/blob/main/DecisionTree.ipynb\" target=\"_parent\"><img src=\"https://colab.research.google.com/assets/colab-badge.svg\" alt=\"Open In Colab\"/></a>"
      ]
    },
    {
      "cell_type": "code",
      "source": [
        "import pandas as pd\n",
        "import numpy as np\n",
        "from sklearn.model_selection import train_test_split\n",
        "from sklearn.tree import DecisionTreeClassifier\n",
        "from sklearn.preprocessing import LabelEncoder\n",
        "from sklearn.metrics import accuracy_score, precision_score, recall_score, f1_score, classification_report\n",
        "from sklearn.tree import export_graphviz\n",
        "import graphviz"
      ],
      "metadata": {
        "id": "-jlAp2avqyay"
      },
      "execution_count": 2,
      "outputs": []
    },
    {
      "cell_type": "code",
      "source": [
        "#Base import and organize\n",
        "base = pd.read_csv(\"insurance.csv\")\n",
        "base = base.drop(columns=['Unnamed: 0'])\n",
        "base = base.replace(np.nan, 'None')\n",
        "\n",
        "x = base.iloc[:,[0,1,2,3,4,5,6,8,9,10,11,12,13,14,15,16,17,18,19,20,21,22,23,24,25,26]].values\n",
        "y = base.iloc[:,7].values"
      ],
      "metadata": {
        "id": "tjxEzg7xqvLv"
      },
      "execution_count": 6,
      "outputs": []
    },
    {
      "cell_type": "code",
      "source": [
        "#Pre-processing\n",
        "labelencoder = LabelEncoder()\n",
        "for i in range(x.shape[1]):\n",
        "  if x[:,i].dtype == 'object':\n",
        "    x[:,i] = labelencoder.fit_transform(x[:,i])\n"
      ],
      "metadata": {
        "id": "_3y9agtIqtei"
      },
      "execution_count": 7,
      "outputs": []
    },
    {
      "cell_type": "code",
      "source": [
        "#Training and Test data\n",
        "x_training, x_test, y_training, y_test = train_test_split(x,y,test_size=0.3, random_state=1)"
      ],
      "metadata": {
        "id": "iNAiCU2zsyxo"
      },
      "execution_count": 8,
      "outputs": []
    },
    {
      "cell_type": "code",
      "source": [
        "#Model definition --> Training and Test\n",
        "#model = DecisionTreeClassifier(random_state=1)\n",
        "#model.fit(x_training, y_training)\n",
        "#predict = model.predict(x_test)\n",
        "\n",
        "# hyperparameter changes --> Training and Test\n",
        "model = DecisionTreeClassifier(random_state=1, max_depth=8, max_leaf_nodes=5)\n",
        "model.fit(x_training, y_training)\n",
        "predict = model.predict(x_test)\n",
        "\n",
        "#Decions Tree Graph\n",
        "dot_data = export_graphviz(model, out_file=None, filled=True, feature_names=base.columns[:-1], class_names=True, rounded=True)\n",
        "graph = graphviz.Source(dot_data)\n",
        "graph.render(\"Decision Tree\", format=\"png\")"
      ],
      "metadata": {
        "colab": {
          "base_uri": "https://localhost:8080/",
          "height": 35
        },
        "id": "Q8JFVWw5tILa",
        "outputId": "53d4ac1d-eaa4-4a49-bbc2-3173918d69e7"
      },
      "execution_count": 23,
      "outputs": [
        {
          "output_type": "execute_result",
          "data": {
            "text/plain": [
              "'Decision Tree.png'"
            ],
            "application/vnd.google.colaboratory.intrinsic+json": {
              "type": "string"
            }
          },
          "metadata": {},
          "execution_count": 23
        }
      ]
    },
    {
      "cell_type": "code",
      "source": [
        "#Metrics\n",
        "acc = accuracy_score(y_test, predict)\n",
        "precison = precision_score(y_test, predict, average=None)\n",
        "recall = recall_score(y_test, predict, average='weighted')\n",
        "f1 = f1_score(y_test, predict, average='weighted')\n",
        "print(f'Acc: {acc}, Precison: {precison}, Recall: {recall}, f1: {f1}')\n",
        "report = classification_report(y_test, predict)\n",
        "print(report)\n"
      ],
      "metadata": {
        "colab": {
          "base_uri": "https://localhost:8080/"
        },
        "id": "eZf3Ip_Mtzyc",
        "outputId": "fa136679-892c-41e8-866d-bb24a659c2a9"
      },
      "execution_count": 24,
      "outputs": [
        {
          "output_type": "stream",
          "name": "stdout",
          "text": [
            "Acc: 0.9325, Precison: [0.85483871 0.74058577 0.96809731 0.89192886], Recall: 0.9325, f1: 0.9299515356779589\n",
            "              precision    recall  f1-score   support\n",
            "\n",
            "        Mild       0.85      0.68      0.76       542\n",
            "    Moderate       0.74      0.70      0.72       505\n",
            "        None       0.97      1.00      0.98      4228\n",
            "      Severe       0.89      0.90      0.90       725\n",
            "\n",
            "    accuracy                           0.93      6000\n",
            "   macro avg       0.86      0.82      0.84      6000\n",
            "weighted avg       0.93      0.93      0.93      6000\n",
            "\n"
          ]
        }
      ]
    }
  ]
}